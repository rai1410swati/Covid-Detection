{
  "nbformat": 4,
  "nbformat_minor": 0,
  "metadata": {
    "colab": {
      "name": "Untitled5.ipynb",
      "provenance": [],
      "collapsed_sections": []
    },
    "kernelspec": {
      "name": "python3",
      "display_name": "Python 3"
    },
    "language_info": {
      "name": "python"
    },
    "accelerator": "GPU"
  },
  "cells": [
    {
      "cell_type": "code",
      "metadata": {
        "id": "Ftj3iYB18Dxc"
      },
      "source": [
        "import numpy as np\n",
        "import matplotlib.pyplot as plt\n",
        "\n",
        "import keras\n",
        "from keras.layers import Dense, Conv2D, MaxPool2D, Dropout, Flatten\n",
        "from keras.models import Sequential\n",
        "from keras.preprocessing import image"
      ],
      "execution_count": 1,
      "outputs": []
    },
    {
      "cell_type": "code",
      "metadata": {
        "colab": {
          "base_uri": "https://localhost:8080/"
        },
        "id": "3eHU9SBgLZU1",
        "outputId": "0132df9d-5fe8-4b6a-efac-a3fb702b423c"
      },
      "source": [
        "train_datagen = image.ImageDataGenerator(\n",
        "    rescale=1/255, horizontal_flip=True, zoom_range=0.2, shear_range=0.2\n",
        ")\n",
        "train_data = train_datagen.flow_from_directory(directory=\"/content/drive/MyDrive/CovidDataset/Train\"\n",
        ", target_size=(256,256), batch_size=16, class_mode='binary')"
      ],
      "execution_count": 4,
      "outputs": [
        {
          "output_type": "stream",
          "text": [
            "Found 224 images belonging to 2 classes.\n"
          ],
          "name": "stdout"
        }
      ]
    },
    {
      "cell_type": "code",
      "metadata": {
        "colab": {
          "base_uri": "https://localhost:8080/"
        },
        "id": "1jJ9ApV_MDye",
        "outputId": "69e7674d-5987-4313-8d91-3da435999c7b"
      },
      "source": [
        "train_data.class_indices"
      ],
      "execution_count": 5,
      "outputs": [
        {
          "output_type": "execute_result",
          "data": {
            "text/plain": [
              "{'Covid': 0, 'Normal': 1}"
            ]
          },
          "metadata": {
            "tags": []
          },
          "execution_count": 5
        }
      ]
    },
    {
      "cell_type": "code",
      "metadata": {
        "colab": {
          "base_uri": "https://localhost:8080/"
        },
        "id": "11fnNjJyOhSd",
        "outputId": "8e58aefd-4e09-404f-e2b6-19dda496e769"
      },
      "source": [
        "test_datagen = image.ImageDataGenerator(\n",
        "    rescale=1/255\n",
        ")\n",
        "test_data = test_datagen.flow_from_directory(directory=\"/content/drive/MyDrive/CovidDataset/Train\"\n",
        ", target_size=(256,256), batch_size=16, class_mode='binary')"
      ],
      "execution_count": 9,
      "outputs": [
        {
          "output_type": "stream",
          "text": [
            "Found 224 images belonging to 2 classes.\n"
          ],
          "name": "stdout"
        }
      ]
    },
    {
      "cell_type": "markdown",
      "metadata": {
        "id": "0e1_zzlTQCkn"
      },
      "source": [
        "CNN Model"
      ]
    },
    {
      "cell_type": "code",
      "metadata": {
        "id": "4ZkR4h7zQGbN"
      },
      "source": [
        "model = Sequential()\n",
        "model.add(Conv2D(filters=32, kernel_size=(3,3), activation='relu', \n",
        "                 input_shape=(256, 256, 3)))\n",
        "\n",
        "model.add(Conv2D(filters=64, kernel_size=(3,3), activation='relu'))\n",
        "model.add(MaxPool2D())\n",
        "model.add(Dropout(rate=0.25))\n",
        "\n",
        "model.add(Conv2D(filters=64, kernel_size=(3,3), activation='relu'))\n",
        "model.add(MaxPool2D())\n",
        "model.add(Dropout(rate=0.25))\n",
        "\n",
        "model.add(Conv2D(filters=128, kernel_size=(3,3), activation='relu'))\n",
        "model.add(MaxPool2D())\n",
        "model.add(Dropout(rate=0.25))\n",
        "\n",
        "model.add(Flatten())\n",
        "model.add(Dense(units=64, activation='relu'))\n",
        "model.add(Dropout(rate=0.50))\n",
        "model.add(Dense(units=1, activation='sigmoid'))\n",
        "\n",
        "model.compile(loss=keras.losses.binary_crossentropy, optimizer=\"adam\",\n",
        "              metrics=['acc'])"
      ],
      "execution_count": 13,
      "outputs": []
    },
    {
      "cell_type": "code",
      "metadata": {
        "colab": {
          "base_uri": "https://localhost:8080/"
        },
        "id": "VfHxpehyTk3t",
        "outputId": "50b5c30b-f598-4c73-c2b3-174079d03544"
      },
      "source": [
        "model.summary()"
      ],
      "execution_count": 14,
      "outputs": [
        {
          "output_type": "stream",
          "text": [
            "Model: \"sequential_3\"\n",
            "_________________________________________________________________\n",
            "Layer (type)                 Output Shape              Param #   \n",
            "=================================================================\n",
            "conv2d_12 (Conv2D)           (None, 254, 254, 32)      896       \n",
            "_________________________________________________________________\n",
            "conv2d_13 (Conv2D)           (None, 252, 252, 64)      18496     \n",
            "_________________________________________________________________\n",
            "max_pooling2d_9 (MaxPooling2 (None, 126, 126, 64)      0         \n",
            "_________________________________________________________________\n",
            "dropout_11 (Dropout)         (None, 126, 126, 64)      0         \n",
            "_________________________________________________________________\n",
            "conv2d_14 (Conv2D)           (None, 124, 124, 64)      36928     \n",
            "_________________________________________________________________\n",
            "max_pooling2d_10 (MaxPooling (None, 62, 62, 64)        0         \n",
            "_________________________________________________________________\n",
            "dropout_12 (Dropout)         (None, 62, 62, 64)        0         \n",
            "_________________________________________________________________\n",
            "conv2d_15 (Conv2D)           (None, 60, 60, 128)       73856     \n",
            "_________________________________________________________________\n",
            "max_pooling2d_11 (MaxPooling (None, 30, 30, 128)       0         \n",
            "_________________________________________________________________\n",
            "dropout_13 (Dropout)         (None, 30, 30, 128)       0         \n",
            "_________________________________________________________________\n",
            "flatten_2 (Flatten)          (None, 115200)            0         \n",
            "_________________________________________________________________\n",
            "dense_4 (Dense)              (None, 64)                7372864   \n",
            "_________________________________________________________________\n",
            "dropout_14 (Dropout)         (None, 64)                0         \n",
            "_________________________________________________________________\n",
            "dense_5 (Dense)              (None, 1)                 65        \n",
            "=================================================================\n",
            "Total params: 7,503,105\n",
            "Trainable params: 7,503,105\n",
            "Non-trainable params: 0\n",
            "_________________________________________________________________\n"
          ],
          "name": "stdout"
        }
      ]
    },
    {
      "cell_type": "code",
      "metadata": {
        "colab": {
          "base_uri": "https://localhost:8080/"
        },
        "id": "DuhPH51tTyDW",
        "outputId": "e0a9fb60-934e-4c47-cb3c-674b9860712a"
      },
      "source": [
        "model_history=model.fit_generator(train_data, steps_per_epoch=8, epochs=10, \n",
        "                    validation_steps=2, validation_data=test_data)"
      ],
      "execution_count": 16,
      "outputs": [
        {
          "output_type": "stream",
          "text": [
            "/usr/local/lib/python3.7/dist-packages/keras/engine/training.py:1915: UserWarning: `Model.fit_generator` is deprecated and will be removed in a future version. Please use `Model.fit`, which supports generators.\n",
            "  warnings.warn('`Model.fit_generator` is deprecated and '\n"
          ],
          "name": "stderr"
        },
        {
          "output_type": "stream",
          "text": [
            "Epoch 1/10\n",
            "8/8 [==============================] - 6s 811ms/step - loss: 0.3930 - acc: 0.9219 - val_loss: 0.2947 - val_acc: 0.9688\n",
            "Epoch 2/10\n",
            "8/8 [==============================] - 6s 730ms/step - loss: 0.2813 - acc: 0.8984 - val_loss: 0.1274 - val_acc: 0.9688\n",
            "Epoch 3/10\n",
            "8/8 [==============================] - 6s 753ms/step - loss: 0.1314 - acc: 0.9531 - val_loss: 0.1896 - val_acc: 0.9375\n",
            "Epoch 4/10\n",
            "8/8 [==============================] - 6s 733ms/step - loss: 0.0633 - acc: 0.9688 - val_loss: 0.0701 - val_acc: 0.9375\n",
            "Epoch 5/10\n",
            "8/8 [==============================] - 6s 772ms/step - loss: 0.1699 - acc: 0.9219 - val_loss: 0.0149 - val_acc: 1.0000\n",
            "Epoch 6/10\n",
            "8/8 [==============================] - 6s 765ms/step - loss: 0.1443 - acc: 0.9531 - val_loss: 0.2220 - val_acc: 0.8438\n",
            "Epoch 7/10\n",
            "8/8 [==============================] - 6s 759ms/step - loss: 0.1919 - acc: 0.9219 - val_loss: 0.0534 - val_acc: 1.0000\n",
            "Epoch 8/10\n",
            "8/8 [==============================] - 6s 759ms/step - loss: 0.1336 - acc: 0.9531 - val_loss: 0.0697 - val_acc: 0.9688\n",
            "Epoch 9/10\n",
            "8/8 [==============================] - 6s 713ms/step - loss: 0.1273 - acc: 0.9531 - val_loss: 0.0196 - val_acc: 1.0000\n",
            "Epoch 10/10\n",
            "8/8 [==============================] - 6s 723ms/step - loss: 0.1299 - acc: 0.9531 - val_loss: 0.0625 - val_acc: 0.9688\n"
          ],
          "name": "stdout"
        }
      ]
    },
    {
      "cell_type": "code",
      "metadata": {
        "colab": {
          "base_uri": "https://localhost:8080/"
        },
        "id": "eq9sc9P9ZEZN",
        "outputId": "43756470-0e92-45c0-c81a-0ea331041d58"
      },
      "source": [
        "model.metrics_names"
      ],
      "execution_count": 22,
      "outputs": [
        {
          "output_type": "execute_result",
          "data": {
            "text/plain": [
              "['loss', 'acc']"
            ]
          },
          "metadata": {
            "tags": []
          },
          "execution_count": 22
        }
      ]
    },
    {
      "cell_type": "code",
      "metadata": {
        "colab": {
          "base_uri": "https://localhost:8080/",
          "height": 312
        },
        "id": "IM0M1DdGVTh0",
        "outputId": "146f432b-3e29-4610-e23e-332cb480347c"
      },
      "source": [
        "print(model_history.history.keys())\n",
        "plt.plot(model_history.history['acc'],label='acc')\n",
        "plt.plot(model_history.history['val_acc'],label='val_acc')\n",
        "plt.title('Model Accuarcy')\n",
        "plt.xlabel('Epochs')\n",
        "plt.ylabel('Accuracy')\n",
        "plt.legend()\n",
        "plt.show()"
      ],
      "execution_count": 23,
      "outputs": [
        {
          "output_type": "stream",
          "text": [
            "dict_keys(['loss', 'acc', 'val_loss', 'val_acc'])\n"
          ],
          "name": "stdout"
        },
        {
          "output_type": "display_data",
          "data": {
            "image/png": "[encoded data removed]",
            "text/plain": [
              "<Figure size 432x288 with 1 Axes>"
            ]
          },
          "metadata": {
            "tags": [],
            "needs_background": "light"
          }
        }
      ]
    },
    {
      "cell_type": "code",
      "metadata": {
        "colab": {
          "base_uri": "https://localhost:8080/",
          "height": 295
        },
        "id": "WnNqOwGEcDJ1",
        "outputId": "eed6b7f0-bf64-4710-f7b2-5693bc178a82"
      },
      "source": [
        "plt.plot(model_history.history['loss'],label='loss')\n",
        "plt.plot(model_history.history['val_loss'], label='val_loss')\n",
        "plt.title('Model Loss')\n",
        "plt.xlabel('Epochs')\n",
        "plt.ylabel('Loss')\n",
        "plt.legend()\n",
        "plt.show()"
      ],
      "execution_count": 25,
      "outputs": [
        {
          "output_type": "display_data",
          "data": {
            "image/png": "[encoded data removed]",
            "text/plain": [
              "<Figure size 432x288 with 1 Axes>"
            ]
          },
          "metadata": {
            "tags": [],
            "needs_background": "light"
          }
        }
      ]
    },
    {
      "cell_type": "code",
      "metadata": {
        "colab": {
          "base_uri": "https://localhost:8080/"
        },
        "id": "8K8xIm47dWI_",
        "outputId": "c2e871e5-0082-491c-aaeb-7b82cd636d1b"
      },
      "source": [
        "model.evaluate_generator(train_data)"
      ],
      "execution_count": 26,
      "outputs": [
        {
          "output_type": "stream",
          "text": [
            "/usr/local/lib/python3.7/dist-packages/keras/engine/training.py:1948: UserWarning: `Model.evaluate_generator` is deprecated and will be removed in a future version. Please use `Model.evaluate`, which supports generators.\n",
            "  warnings.warn('`Model.evaluate_generator` is deprecated and '\n"
          ],
          "name": "stderr"
        },
        {
          "output_type": "execute_result",
          "data": {
            "text/plain": [
              "[0.10738897323608398, 0.9598214030265808]"
            ]
          },
          "metadata": {
            "tags": []
          },
          "execution_count": 26
        }
      ]
    },
    {
      "cell_type": "code",
      "metadata": {
        "colab": {
          "base_uri": "https://localhost:8080/"
        },
        "id": "0AwH-F5_hUIN",
        "outputId": "69b4e141-c7ae-4d1c-be8b-7e2c83f8d16b"
      },
      "source": [
        "model.evaluate_generator(test_data)"
      ],
      "execution_count": 27,
      "outputs": [
        {
          "output_type": "stream",
          "text": [
            "/usr/local/lib/python3.7/dist-packages/keras/engine/training.py:1948: UserWarning: `Model.evaluate_generator` is deprecated and will be removed in a future version. Please use `Model.evaluate`, which supports generators.\n",
            "  warnings.warn('`Model.evaluate_generator` is deprecated and '\n"
          ],
          "name": "stderr"
        },
        {
          "output_type": "execute_result",
          "data": {
            "text/plain": [
              "[0.06345118582248688, 0.9776785969734192]"
            ]
          },
          "metadata": {
            "tags": []
          },
          "execution_count": 27
        }
      ]
    },
    {
      "cell_type": "markdown",
      "metadata": {
        "id": "iYFta6C1hiqP"
      },
      "source": [
        "Confusion Matrix"
      ]
    },
    {
      "cell_type": "code",
      "metadata": {
        "id": "d-1MlMzbhndE"
      },
      "source": [
        "import os\n",
        "y_actual, y_test=[],[]"
      ],
      "execution_count": 29,
      "outputs": []
    },
    {
      "cell_type": "code",
      "metadata": {
        "colab": {
          "base_uri": "https://localhost:8080/"
        },
        "id": "vJSWvrIGkjQ_",
        "outputId": "923738d8-b818-4d60-c539-e783f5c40674"
      },
      "source": [
        "for i in os.listdir(\"/content/drive/MyDrive/CovidDataset/Val/Normal/\"):\n",
        "  img=image.load_img(\"/content/drive/MyDrive/CovidDataset/Val/Normal/\"\n",
        "  +i, target_size=(256,256))\n",
        "  img=image.img_to_array(img)\n",
        "  img=np.expand_dims(img,axis=0)\n",
        "  pred=model.predict_classes(img)\n",
        "  y_test.append(pred[0,0])\n",
        "  y_actual.append(1)"
      ],
      "execution_count": 32,
      "outputs": [
        {
          "output_type": "stream",
          "text": [
            "/usr/local/lib/python3.7/dist-packages/keras/engine/sequential.py:450: UserWarning: `model.predict_classes()` is deprecated and will be removed after 2021-01-01. Please use instead:* `np.argmax(model.predict(x), axis=-1)`,   if your model does multi-class classification   (e.g. if it uses a `softmax` last-layer activation).* `(model.predict(x) > 0.5).astype(\"int32\")`,   if your model does binary classification   (e.g. if it uses a `sigmoid` last-layer activation).\n",
            "  warnings.warn('`model.predict_classes()` is deprecated and '\n"
          ],
          "name": "stderr"
        }
      ]
    },
    {
      "cell_type": "code",
      "metadata": {
        "colab": {
          "base_uri": "https://localhost:8080/"
        },
        "id": "y2Nuj661mBx9",
        "outputId": "5795424f-8c82-47df-e851-033ea17f9c61"
      },
      "source": [
        "for i in os.listdir(\"/content/drive/MyDrive/CovidDataset/Val/Covid/\"):\n",
        "  img=image.load_img(\"/content/drive/MyDrive/CovidDataset/Val/Covid/\"\n",
        "  +i, target_size=(256,256))\n",
        "  img=image.img_to_array(img)\n",
        "  img=np.expand_dims(img,axis=0)\n",
        "  pred=model.predict_classes(img)\n",
        "  y_test.append(pred[0,0])\n",
        "  y_actual.append(0)"
      ],
      "execution_count": 33,
      "outputs": [
        {
          "output_type": "stream",
          "text": [
            "/usr/local/lib/python3.7/dist-packages/keras/engine/sequential.py:450: UserWarning: `model.predict_classes()` is deprecated and will be removed after 2021-01-01. Please use instead:* `np.argmax(model.predict(x), axis=-1)`,   if your model does multi-class classification   (e.g. if it uses a `softmax` last-layer activation).* `(model.predict(x) > 0.5).astype(\"int32\")`,   if your model does binary classification   (e.g. if it uses a `sigmoid` last-layer activation).\n",
            "  warnings.warn('`model.predict_classes()` is deprecated and '\n"
          ],
          "name": "stderr"
        }
      ]
    },
    {
      "cell_type": "code",
      "metadata": {
        "id": "cLatZpySmXYX"
      },
      "source": [
        "y_actual=np.array(y_actual)\n",
        "y_test=np.array(y_test)"
      ],
      "execution_count": 34,
      "outputs": []
    },
    {
      "cell_type": "code",
      "metadata": {
        "colab": {
          "base_uri": "https://localhost:8080/"
        },
        "id": "saMre0O9miXc",
        "outputId": "bdf17b64-77b7-48e6-90b7-9de57e36370b"
      },
      "source": [
        "import seaborn as sns\n",
        "from sklearn.metrics import confusion_matrix, accuracy_score\n",
        "cm=confusion_matrix(y_actual,y_test)\n",
        "print(cm)\n",
        "accuracy_score(y_actual,y_test)"
      ],
      "execution_count": 35,
      "outputs": [
        {
          "output_type": "stream",
          "text": [
            "[[30  0]\n",
            " [ 3 27]]\n"
          ],
          "name": "stdout"
        },
        {
          "output_type": "execute_result",
          "data": {
            "text/plain": [
              "0.95"
            ]
          },
          "metadata": {
            "tags": []
          },
          "execution_count": 35
        }
      ]
    },
    {
      "cell_type": "code",
      "metadata": {
        "colab": {
          "base_uri": "https://localhost:8080/",
          "height": 286
        },
        "id": "dhQv-NVZnilO",
        "outputId": "66a4a960-dd85-4586-9dee-da884b5a2e9f"
      },
      "source": [
        "sns.heatmap(cm,cmap=\"plasma\",annot=True)"
      ],
      "execution_count": 36,
      "outputs": [
        {
          "output_type": "execute_result",
          "data": {
            "text/plain": [
              "<matplotlib.axes._subplots.AxesSubplot at 0x7f3532835ed0>"
            ]
          },
          "metadata": {
            "tags": []
          },
          "execution_count": 36
        },
        {
          "output_type": "display_data",
          "data": {
            "image/png": "[encoded data removed]",
            "text/plain": [
              "<Figure size 432x288 with 2 Axes>"
            ]
          },
          "metadata": {
            "tags": [],
            "needs_background": "light"
          }
        }
      ]
    }
  ]
}